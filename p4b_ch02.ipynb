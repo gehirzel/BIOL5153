{
 "cells": [
  {
   "cell_type": "code",
   "execution_count": 1,
   "metadata": {},
   "outputs": [
    {
     "name": "stdout",
     "output_type": "stream",
     "text": [
      "Hello world\n"
     ]
    }
   ],
   "source": [
    "print(\"Hello world\")"
   ]
  },
  {
   "cell_type": "code",
   "execution_count": 2,
   "metadata": {},
   "outputs": [
    {
     "name": "stdout",
     "output_type": "stream",
     "text": [
      "Hello world\n"
     ]
    }
   ],
   "source": [
    "print('Hello world')"
   ]
  },
  {
   "cell_type": "code",
   "execution_count": 3,
   "metadata": {},
   "outputs": [
    {
     "name": "stdout",
     "output_type": "stream",
     "text": [
      "She said, 'Hello world'\n",
      "He said, \"Hello world\"\n"
     ]
    }
   ],
   "source": [
    "print(\"She said, 'Hello world'\")\n",
    "print('He said, \"Hello world\"')"
   ]
  },
  {
   "cell_type": "code",
   "execution_count": 4,
   "metadata": {},
   "outputs": [
    {
     "name": "stdout",
     "output_type": "stream",
     "text": [
      "Comments are very useful!\n"
     ]
    }
   ],
   "source": [
    "# this is a comment, it will be ignored by the computer\n",
    "print(\"Comments are very useful!\")"
   ]
  },
  {
   "cell_type": "code",
   "execution_count": 5,
   "metadata": {},
   "outputs": [
    {
     "name": "stdout",
     "output_type": "stream",
     "text": [
      "Hello world\n"
     ]
    }
   ],
   "source": [
    "# print a friendly greeting\n",
    "print(\"Hello world\")"
   ]
  },
  {
   "cell_type": "code",
   "execution_count": 6,
   "metadata": {},
   "outputs": [
    {
     "ename": "SyntaxError",
     "evalue": "invalid syntax (<ipython-input-6-72df0f0ba81d>, line 2)",
     "output_type": "error",
     "traceback": [
      "\u001b[0;36m  File \u001b[0;32m\"<ipython-input-6-72df0f0ba81d>\"\u001b[0;36m, line \u001b[0;32m2\u001b[0m\n\u001b[0;31m    print(Hello world)\u001b[0m\n\u001b[0m                    ^\u001b[0m\n\u001b[0;31mSyntaxError\u001b[0m\u001b[0;31m:\u001b[0m invalid syntax\n"
     ]
    }
   ],
   "source": [
    "#error\n",
    "print(Hello world)"
   ]
  },
  {
   "cell_type": "code",
   "execution_count": 7,
   "metadata": {},
   "outputs": [
    {
     "ename": "SyntaxError",
     "evalue": "unexpected EOF while parsing (<ipython-input-7-c24c1672ee56>, line 2)",
     "output_type": "error",
     "traceback": [
      "\u001b[0;36m  File \u001b[0;32m\"<ipython-input-7-c24c1672ee56>\"\u001b[0;36m, line \u001b[0;32m2\u001b[0m\n\u001b[0;31m    prin(\"Hello world\"\u001b[0m\n\u001b[0m                      ^\u001b[0m\n\u001b[0;31mSyntaxError\u001b[0m\u001b[0;31m:\u001b[0m unexpected EOF while parsing\n"
     ]
    }
   ],
   "source": [
    "#error\n",
    "prin(\"Hello world\""
   ]
  },
  {
   "cell_type": "code",
   "execution_count": 8,
   "metadata": {},
   "outputs": [
    {
     "ename": "SyntaxError",
     "evalue": "EOL while scanning string literal (<ipython-input-8-88784ca581e1>, line 2)",
     "output_type": "error",
     "traceback": [
      "\u001b[0;36m  File \u001b[0;32m\"<ipython-input-8-88784ca581e1>\"\u001b[0;36m, line \u001b[0;32m2\u001b[0m\n\u001b[0;31m    print(\"Hello\u001b[0m\n\u001b[0m                ^\u001b[0m\n\u001b[0;31mSyntaxError\u001b[0m\u001b[0;31m:\u001b[0m EOL while scanning string literal\n"
     ]
    }
   ],
   "source": [
    "#error\n",
    "print(\"Hello\n",
    "      World\")"
   ]
  },
  {
   "cell_type": "code",
   "execution_count": 10,
   "metadata": {},
   "outputs": [
    {
     "name": "stdout",
     "output_type": "stream",
     "text": [
      "Hello\n",
      "world\n"
     ]
    }
   ],
   "source": [
    "# how to include a new line in the middle of a string\n",
    "print(\"Hello\\nworld\")"
   ]
  },
  {
   "cell_type": "code",
   "execution_count": 12,
   "metadata": {},
   "outputs": [
    {
     "name": "stdout",
     "output_type": "stream",
     "text": [
      "ATGCGTA\n"
     ]
    }
   ],
   "source": [
    "# store a short DNA sequence in the variable my_dna\n",
    "my_dna = \"ATGCGTA\"\n",
    "print (my_dna)"
   ]
  },
  {
   "cell_type": "code",
   "execution_count": 13,
   "metadata": {},
   "outputs": [
    {
     "name": "stdout",
     "output_type": "stream",
     "text": [
      "ATGCGTA\n"
     ]
    }
   ],
   "source": [
    "# store a short DNA sequence in the variable my_dna\n",
    "my_dna = \"ATGCGTA\"\n",
    "# now print the DNA sequence\n",
    "print(my_dna)"
   ]
  },
  {
   "cell_type": "code",
   "execution_count": 14,
   "metadata": {},
   "outputs": [
    {
     "name": "stdout",
     "output_type": "stream",
     "text": [
      "ATGCGTA\n"
     ]
    }
   ],
   "source": [
    "my_dna = \"ATGCGTA\"\n",
    "print(my_dna)\n",
    "# change the value of my_dna\n",
    "my_dna = \"TGGTCCA\""
   ]
  },
  {
   "cell_type": "code",
   "execution_count": 15,
   "metadata": {},
   "outputs": [
    {
     "name": "stdout",
     "output_type": "stream",
     "text": [
      "ATGCGTA\n"
     ]
    }
   ],
   "source": [
    "#same as above with bad names\n",
    "# store a short DNA sequence in the variable banana\n",
    "banana = \"ATGCGTA\"\n",
    "# now print the DNA sequence\n",
    "print(banana)"
   ]
  },
  {
   "cell_type": "code",
   "execution_count": 16,
   "metadata": {},
   "outputs": [
    {
     "name": "stdout",
     "output_type": "stream",
     "text": [
      "AATTGGCC\n"
     ]
    }
   ],
   "source": [
    "my_dna = \"AATT\" + \"GGCC\"\n",
    "print(my_dna)"
   ]
  },
  {
   "cell_type": "code",
   "execution_count": 17,
   "metadata": {},
   "outputs": [
    {
     "name": "stdout",
     "output_type": "stream",
     "text": [
      "AAAATGC\n"
     ]
    }
   ],
   "source": [
    "upstream = \"AAA\"\n",
    "my_dna = upstream + \"ATGC\"\n",
    "# my_dna is now \"AAAATGC\"\n",
    "print (my_dna)"
   ]
  },
  {
   "cell_type": "code",
   "execution_count": 18,
   "metadata": {},
   "outputs": [
    {
     "name": "stdout",
     "output_type": "stream",
     "text": [
      "AAAATGCGGG\n"
     ]
    }
   ],
   "source": [
    "upstream = \"AAA\"\n",
    "downstream = \"GGG\"\n",
    "my_dna = upstream + \"ATGC\" + downstream\n",
    "# my_dna is now \"AAAATGCGGG\"\n",
    "print (my_dna)"
   ]
  },
  {
   "cell_type": "code",
   "execution_count": 19,
   "metadata": {},
   "outputs": [
    {
     "name": "stdout",
     "output_type": "stream",
     "text": [
      "Hello world\n"
     ]
    }
   ],
   "source": [
    "print(\"Hello\" + \" \" + \"world\")"
   ]
  },
  {
   "cell_type": "code",
   "execution_count": 20,
   "metadata": {},
   "outputs": [
    {
     "data": {
      "text/plain": [
       "4"
      ]
     },
     "execution_count": 20,
     "metadata": {},
     "output_type": "execute_result"
    }
   ],
   "source": [
    "# this line doesn't produce any output\n",
    "len(\"ATGC\")"
   ]
  },
  {
   "cell_type": "code",
   "execution_count": 21,
   "metadata": {},
   "outputs": [
    {
     "name": "stdout",
     "output_type": "stream",
     "text": [
      "4\n"
     ]
    }
   ],
   "source": [
    "dna_length = len(\"AGTC\")\n",
    "print(dna_length)"
   ]
  },
  {
   "cell_type": "code",
   "execution_count": 22,
   "metadata": {},
   "outputs": [
    {
     "ename": "TypeError",
     "evalue": "must be str, not int",
     "output_type": "error",
     "traceback": [
      "\u001b[0;31m---------------------------------------------------------------------------\u001b[0m",
      "\u001b[0;31mTypeError\u001b[0m                                 Traceback (most recent call last)",
      "\u001b[0;32m<ipython-input-22-f53bc5cdc844>\u001b[0m in \u001b[0;36m<module>\u001b[0;34m\u001b[0m\n\u001b[1;32m      4\u001b[0m \u001b[0mdna_length\u001b[0m \u001b[0;34m=\u001b[0m \u001b[0mlen\u001b[0m\u001b[0;34m(\u001b[0m\u001b[0mmy_dna\u001b[0m\u001b[0;34m)\u001b[0m\u001b[0;34m\u001b[0m\u001b[0;34m\u001b[0m\u001b[0m\n\u001b[1;32m      5\u001b[0m \u001b[0;31m# print a message telling us the DNA sequence length\u001b[0m\u001b[0;34m\u001b[0m\u001b[0;34m\u001b[0m\u001b[0;34m\u001b[0m\u001b[0m\n\u001b[0;32m----> 6\u001b[0;31m \u001b[0mprint\u001b[0m\u001b[0;34m(\u001b[0m\u001b[0;34m\"The length of the DNA sequence is \"\u001b[0m \u001b[0;34m+\u001b[0m \u001b[0mdna_length\u001b[0m\u001b[0;34m)\u001b[0m\u001b[0;34m\u001b[0m\u001b[0;34m\u001b[0m\u001b[0m\n\u001b[0m",
      "\u001b[0;31mTypeError\u001b[0m: must be str, not int"
     ]
    }
   ],
   "source": [
    "#error\n",
    "# store the DNA sequence in a variable\n",
    "my_dna = \"ATGCGAGT\"\n",
    "# calculate the length of the sequence and store it in a variable\n",
    "dna_length = len(my_dna)\n",
    "# print a message telling us the DNA sequence length\n",
    "print(\"The length of the DNA sequence is \" + dna_length)"
   ]
  },
  {
   "cell_type": "code",
   "execution_count": 23,
   "metadata": {},
   "outputs": [
    {
     "name": "stdout",
     "output_type": "stream",
     "text": [
      "The length of the DNA sequence is 8\n"
     ]
    }
   ],
   "source": [
    "my_dna = \"ATGCGAGT\"\n",
    "dna_length = len(my_dna)\n",
    "print(\"The length of the DNA sequence is \" + str(dna_length))"
   ]
  },
  {
   "cell_type": "code",
   "execution_count": 24,
   "metadata": {},
   "outputs": [
    {
     "name": "stdout",
     "output_type": "stream",
     "text": [
      "atgc\n"
     ]
    }
   ],
   "source": [
    "my_dna = \"ATGC\"\n",
    "# print my_dna in lower case\n",
    "print(my_dna.lower())"
   ]
  },
  {
   "cell_type": "code",
   "execution_count": 25,
   "metadata": {},
   "outputs": [
    {
     "name": "stdout",
     "output_type": "stream",
     "text": [
      "ATGC\n"
     ]
    },
    {
     "data": {
      "text/plain": [
       "4"
      ]
     },
     "execution_count": 25,
     "metadata": {},
     "output_type": "execute_result"
    }
   ],
   "source": [
    "print(\"ATGC\")\n",
    "len(my_dna)"
   ]
  },
  {
   "cell_type": "code",
   "execution_count": 26,
   "metadata": {},
   "outputs": [
    {
     "name": "stdout",
     "output_type": "stream",
     "text": [
      "before: ATGC\n",
      "after: ATGC\n"
     ]
    }
   ],
   "source": [
    "my_dna = \"ATGC\"\n",
    "# print the variable\n",
    "print(\"before: \" + my_dna)\n",
    "# run the lower method and store the result\n",
    "lowercase_dna = my_dna.lower()\n",
    "# print the variable again\n",
    "print(\"after: \" + my_dna)"
   ]
  },
  {
   "cell_type": "code",
   "execution_count": 27,
   "metadata": {},
   "outputs": [
    {
     "ename": "AttributeError",
     "evalue": "'int' object has no attribute 'lower'",
     "output_type": "error",
     "traceback": [
      "\u001b[0;31m---------------------------------------------------------------------------\u001b[0m",
      "\u001b[0;31mAttributeError\u001b[0m                            Traceback (most recent call last)",
      "\u001b[0;32m<ipython-input-27-3e6618f76acc>\u001b[0m in \u001b[0;36m<module>\u001b[0;34m\u001b[0m\n\u001b[1;32m      2\u001b[0m \u001b[0mmy_number\u001b[0m \u001b[0;34m=\u001b[0m \u001b[0mlen\u001b[0m\u001b[0;34m(\u001b[0m\u001b[0;34m\"AGTC\"\u001b[0m\u001b[0;34m)\u001b[0m\u001b[0;34m\u001b[0m\u001b[0;34m\u001b[0m\u001b[0m\n\u001b[1;32m      3\u001b[0m \u001b[0;31m# my_number is 4\u001b[0m\u001b[0;34m\u001b[0m\u001b[0;34m\u001b[0m\u001b[0;34m\u001b[0m\u001b[0m\n\u001b[0;32m----> 4\u001b[0;31m \u001b[0mprint\u001b[0m\u001b[0;34m(\u001b[0m\u001b[0mmy_number\u001b[0m\u001b[0;34m.\u001b[0m\u001b[0mlower\u001b[0m\u001b[0;34m(\u001b[0m\u001b[0;34m)\u001b[0m\u001b[0;34m)\u001b[0m\u001b[0;34m\u001b[0m\u001b[0;34m\u001b[0m\u001b[0m\n\u001b[0m",
      "\u001b[0;31mAttributeError\u001b[0m: 'int' object has no attribute 'lower'"
     ]
    }
   ],
   "source": [
    "#error\n",
    "my_number = len(\"AGTC\")\n",
    "# my_number is 4\n",
    "print(my_number.lower())"
   ]
  },
  {
   "cell_type": "code",
   "execution_count": 29,
   "metadata": {},
   "outputs": [
    {
     "name": "stdout",
     "output_type": "stream",
     "text": [
      "ylspadktny\n",
      "ymtpadktnv\n",
      "vlspadktnv\n"
     ]
    }
   ],
   "source": [
    "protein = \"vlspadktnv\"\n",
    "# replace valine with tyrosine\n",
    "print(protein.replace(\"v\", \"y\"))\n",
    "# we can replace more than one character\n",
    "print(protein.replace(\"vls\", \"ymt\"))\n",
    "# the original variable is not affected\n",
    "print(protein)"
   ]
  },
  {
   "cell_type": "code",
   "execution_count": 30,
   "metadata": {},
   "outputs": [
    {
     "name": "stdout",
     "output_type": "stream",
     "text": [
      "pa\n",
      "vlspad\n",
      "vlspadktnv\n"
     ]
    }
   ],
   "source": [
    "protein = \"vlspadktnv\"\n",
    "# print positions three to five\n",
    "print(protein[3:5])\n",
    "# positions start at zero, not one\n",
    "print(protein[0:6])\n",
    "# if we use a stop position beyond the end, it's the same as using the end\n",
    "print(protein[0:60])"
   ]
  },
  {
   "cell_type": "code",
   "execution_count": 32,
   "metadata": {},
   "outputs": [
    {
     "name": "stdout",
     "output_type": "stream",
     "text": [
      "v\n"
     ]
    }
   ],
   "source": [
    "protein = \"vlspadktnv\"\n",
    "first_residue = protein[0]\n",
    "print (first_residue)"
   ]
  },
  {
   "cell_type": "code",
   "execution_count": 33,
   "metadata": {},
   "outputs": [
    {
     "name": "stdout",
     "output_type": "stream",
     "text": [
      "valines: 2\n",
      "lsp: 1\n",
      "tryptophans: 0\n"
     ]
    }
   ],
   "source": [
    "protein = \"vlspadktnv\"\n",
    "# count amino acid residues\n",
    "valine_count = protein.count('v')\n",
    "lsp_count = protein.count('lsp')\n",
    "tryptophan_count = protein.count('w')\n",
    "# now print the counts\n",
    "print(\"valines: \" + str(valine_count))\n",
    "print(\"lsp: \" + str(lsp_count))\n",
    "print(\"tryptophans: \" + str(tryptophan_count))"
   ]
  },
  {
   "cell_type": "code",
   "execution_count": 34,
   "metadata": {},
   "outputs": [
    {
     "name": "stdout",
     "output_type": "stream",
     "text": [
      "3\n",
      "6\n",
      "-1\n"
     ]
    }
   ],
   "source": [
    "protein = \"vlspadktnv\" \n",
    "print(str(protein.find('p'))) \n",
    "print(str(protein.find('kt'))) \n",
    "print(str(protein.find('w')))"
   ]
  },
  {
   "cell_type": "code",
   "execution_count": null,
   "metadata": {},
   "outputs": [],
   "source": []
  }
 ],
 "metadata": {
  "kernelspec": {
   "display_name": "Python 3",
   "language": "python",
   "name": "python3"
  },
  "language_info": {
   "codemirror_mode": {
    "name": "ipython",
    "version": 3
   },
   "file_extension": ".py",
   "mimetype": "text/x-python",
   "name": "python",
   "nbconvert_exporter": "python",
   "pygments_lexer": "ipython3",
   "version": "3.6.7"
  }
 },
 "nbformat": 4,
 "nbformat_minor": 2
}
