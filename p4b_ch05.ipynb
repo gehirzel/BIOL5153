{
 "cells": [
  {
   "cell_type": "code",
   "execution_count": 4,
   "metadata": {},
   "outputs": [],
   "source": [
    "my_dna=\"AGACTTCGAGCGCGCGATTCCGCGGCGAATATTCGCGC\"\n",
    "#define the function\n",
    "def get_at_content(dna):\n",
    "    length = len(dna)     \n",
    "    a_count = dna.count('A')     \n",
    "    t_count = dna.count('T')     \n",
    "    at_content = (a_count + t_count) / length     \n",
    "    return at_content "
   ]
  },
  {
   "cell_type": "code",
   "execution_count": 5,
   "metadata": {},
   "outputs": [
    {
     "data": {
      "text/plain": [
       "0.3684210526315789"
      ]
     },
     "execution_count": 5,
     "metadata": {},
     "output_type": "execute_result"
    }
   ],
   "source": [
    "#run the function\n",
    "get_at_content(my_dna)"
   ]
  },
  {
   "cell_type": "code",
   "execution_count": 7,
   "metadata": {},
   "outputs": [
    {
     "name": "stdout",
     "output_type": "stream",
     "text": [
      "0.3684210526315789\n"
     ]
    }
   ],
   "source": [
    "#store it as a variable\n",
    "at_content = get_at_content(my_dna)\n",
    "print (at_content)"
   ]
  },
  {
   "cell_type": "code",
   "execution_count": 10,
   "metadata": {},
   "outputs": [
    {
     "name": "stdout",
     "output_type": "stream",
     "text": [
      "AT content is 0.3684210526315789\n"
     ]
    }
   ],
   "source": [
    "#use it directly\n",
    "print(\"AT content is \" + str(get_at_content(my_dna)))"
   ]
  },
  {
   "cell_type": "code",
   "execution_count": 11,
   "metadata": {},
   "outputs": [
    {
     "ename": "NameError",
     "evalue": "name 'a_count' is not defined",
     "output_type": "error",
     "traceback": [
      "\u001b[0;31m---------------------------------------------------------------------------\u001b[0m",
      "\u001b[0;31mNameError\u001b[0m                                 Traceback (most recent call last)",
      "\u001b[0;32m<ipython-input-11-1710ac35c718>\u001b[0m in \u001b[0;36m<module>\u001b[0;34m\u001b[0m\n\u001b[1;32m      1\u001b[0m \u001b[0;31m#Get an error by trying to use a function variable from the outside\u001b[0m\u001b[0;34m\u001b[0m\u001b[0;34m\u001b[0m\u001b[0;34m\u001b[0m\u001b[0m\n\u001b[0;32m----> 2\u001b[0;31m \u001b[0mprint\u001b[0m\u001b[0;34m(\u001b[0m\u001b[0ma_count\u001b[0m\u001b[0;34m)\u001b[0m\u001b[0;34m\u001b[0m\u001b[0;34m\u001b[0m\u001b[0m\n\u001b[0m",
      "\u001b[0;31mNameError\u001b[0m: name 'a_count' is not defined"
     ]
    }
   ],
   "source": [
    "#Get an error by trying to use a function variable from the outside\n",
    "print(a_count)"
   ]
  },
  {
   "cell_type": "code",
   "execution_count": 12,
   "metadata": {},
   "outputs": [
    {
     "name": "stdout",
     "output_type": "stream",
     "text": [
      "0.3684210526315789\n",
      "0.5294117647058824\n",
      "0.0\n"
     ]
    }
   ],
   "source": [
    "def get_at_content(dna):\n",
    "    length = len(dna)     \n",
    "    a_count = dna.count('A')     \n",
    "    t_count = dna.count('T')     \n",
    "    at_content = (a_count + t_count) / length     \n",
    "    return at_content\n",
    "\n",
    "my_at_content = get_at_content(my_dna)\n",
    "print(str(my_at_content))\n",
    "print(get_at_content(\"ATGCATGCAACTGTAGC\"))\n",
    "#doesn't recognize lower case\n",
    "print(get_at_content(\"aactgtagctagctagcagcgta\"))"
   ]
  },
  {
   "cell_type": "code",
   "execution_count": 13,
   "metadata": {},
   "outputs": [
    {
     "name": "stdout",
     "output_type": "stream",
     "text": [
      "0.37\n",
      "0.53\n",
      "0.52\n"
     ]
    }
   ],
   "source": [
    "#fix the lower case problem & round\n",
    "def get_at_content(dna):\n",
    "    length = len(dna)     \n",
    "    a_count = dna.upper().count('A')     \n",
    "    t_count = dna.upper().count('T')     \n",
    "    at_content = (a_count + t_count) / length     \n",
    "    return round(at_content,2)\n",
    "\n",
    "my_at_content = get_at_content(my_dna)\n",
    "print(str(my_at_content))\n",
    "print(get_at_content(\"ATGCATGCAACTGTAGC\"))\n",
    "print(get_at_content(\"aactgtagctagctagcagcgta\"))"
   ]
  },
  {
   "cell_type": "code",
   "execution_count": 16,
   "metadata": {},
   "outputs": [
    {
     "name": "stdout",
     "output_type": "stream",
     "text": [
      "0.5\n",
      "0.53\n",
      "0.529\n"
     ]
    }
   ],
   "source": [
    "#add sig figs\n",
    "def get_at_content(dna, sig_figs):\n",
    "    length = len(dna)     \n",
    "    a_count = dna.upper().count('A')     \n",
    "    t_count = dna.upper().count('T')     \n",
    "    at_content = (a_count + t_count) / length     \n",
    "    return round(at_content, sig_figs)\n",
    "test_dna = \"ATGCATGCAACTGTAGC\"\n",
    "#one sig fig\n",
    "print(get_at_content(test_dna, 1))\n",
    "#and two\n",
    "print(get_at_content(test_dna, 2))\n",
    "#three sig figs\n",
    "print(get_at_content(test_dna, 3))"
   ]
  },
  {
   "cell_type": "code",
   "execution_count": 18,
   "metadata": {},
   "outputs": [],
   "source": [
    "#a function with no arguments\n",
    "def get_a_number():\n",
    "    return 42\n",
    "def get_at_content():\n",
    "    dna = \"AGGAGGAGAGAGTTTT\"\n",
    "    length = len(dna)     \n",
    "    a_count = dna.upper().count('A')     \n",
    "    t_count = dna.upper().count('T')     \n",
    "    at_content = (a_count + t_count) / length     \n",
    "    return round(at_content, 2)\n",
    "#not so useful though"
   ]
  },
  {
   "cell_type": "code",
   "execution_count": 20,
   "metadata": {},
   "outputs": [
    {
     "name": "stdout",
     "output_type": "stream",
     "text": [
      "0.41\n"
     ]
    }
   ],
   "source": [
    "#this is not encapsulated\n",
    "def get_at_content():\n",
    "    length = len(dna)     \n",
    "    a_count = dna.upper().count('A')     \n",
    "    t_count = dna.upper().count('T')     \n",
    "    at_content = (a_count + t_count) / length     \n",
    "    return round(at_content, 2)\n",
    "dna = \"AGTGTCTCTCTCTTAGCGCGGC\"\n",
    "print(get_at_content())"
   ]
  },
  {
   "cell_type": "code",
   "execution_count": 29,
   "metadata": {},
   "outputs": [
    {
     "name": "stdout",
     "output_type": "stream",
     "text": [
      "0.38\n"
     ]
    }
   ],
   "source": [
    "#printing is nice but not always flexible\n",
    "def get_at_content(dna):\n",
    "    length = len(dna)     \n",
    "    a_count = dna.upper().count('A')     \n",
    "    t_count = dna.upper().count('T')     \n",
    "    at_content = (a_count + t_count) / length     \n",
    "    print(str(round(at_content, 2)))\n",
    "get_at_content(\"AGGTTCTCGCGCA\")"
   ]
  },
  {
   "cell_type": "code",
   "execution_count": 33,
   "metadata": {},
   "outputs": [
    {
     "name": "stdout",
     "output_type": "stream",
     "text": [
      "0.45\n",
      "0.455\n",
      "0.4545\n"
     ]
    }
   ],
   "source": [
    "#defaults for function arguments\n",
    "def get_at_content(dna, sig_figs=2):\n",
    "    length = len(dna)     \n",
    "    a_count = dna.upper().count('A')     \n",
    "    t_count = dna.upper().count('T')     \n",
    "    at_content = (a_count + t_count) / length     \n",
    "    return round(at_content, sig_figs)\n",
    "print(get_at_content(\"ATCGTGACTCG\"))\n",
    "print(get_at_content(\"ATCGTGACTCG\", 3))\n",
    "print(get_at_content(\"ATCGTGACTCG\", sig_figs=4))              "
   ]
  },
  {
   "cell_type": "code",
   "execution_count": 34,
   "metadata": {},
   "outputs": [],
   "source": [
    "#testing functions\n",
    "assert get_at_content(\"ATGC\") == 0.5 \n",
    "#no error? asserion is true"
   ]
  },
  {
   "cell_type": "code",
   "execution_count": 36,
   "metadata": {},
   "outputs": [
    {
     "ename": "AssertionError",
     "evalue": "",
     "output_type": "error",
     "traceback": [
      "\u001b[0;31m---------------------------------------------------------------------------\u001b[0m",
      "\u001b[0;31mAssertionError\u001b[0m                            Traceback (most recent call last)",
      "\u001b[0;32m<ipython-input-36-e5d479e47921>\u001b[0m in \u001b[0;36m<module>\u001b[0;34m\u001b[0m\n\u001b[0;32m----> 1\u001b[0;31m \u001b[0;32massert\u001b[0m \u001b[0mget_at_content\u001b[0m\u001b[0;34m(\u001b[0m\u001b[0;34m\"ATGCNNNNNNNNNN\"\u001b[0m\u001b[0;34m)\u001b[0m \u001b[0;34m==\u001b[0m \u001b[0;36m0.5\u001b[0m\u001b[0;34m\u001b[0m\u001b[0;34m\u001b[0m\u001b[0m\n\u001b[0m\u001b[1;32m      2\u001b[0m \u001b[0;31m#doesn't like it\u001b[0m\u001b[0;34m\u001b[0m\u001b[0;34m\u001b[0m\u001b[0;34m\u001b[0m\u001b[0m\n\u001b[1;32m      3\u001b[0m \u001b[0;32mdef\u001b[0m \u001b[0mget_at_content\u001b[0m\u001b[0;34m(\u001b[0m\u001b[0mdna\u001b[0m\u001b[0;34m,\u001b[0m \u001b[0msig_figs\u001b[0m\u001b[0;34m=\u001b[0m\u001b[0;36m2\u001b[0m\u001b[0;34m)\u001b[0m\u001b[0;34m:\u001b[0m\u001b[0;34m\u001b[0m\u001b[0;34m\u001b[0m\u001b[0m\n\u001b[1;32m      4\u001b[0m     \u001b[0mdna\u001b[0m \u001b[0;34m=\u001b[0m \u001b[0mdna\u001b[0m\u001b[0;34m.\u001b[0m\u001b[0mreplace\u001b[0m\u001b[0;34m(\u001b[0m\u001b[0;34m'N'\u001b[0m\u001b[0;34m,\u001b[0m\u001b[0;34m''\u001b[0m\u001b[0;34m)\u001b[0m\u001b[0;34m\u001b[0m\u001b[0;34m\u001b[0m\u001b[0m\n\u001b[1;32m      5\u001b[0m     \u001b[0mlength\u001b[0m \u001b[0;34m=\u001b[0m \u001b[0mlen\u001b[0m\u001b[0;34m(\u001b[0m\u001b[0mdna\u001b[0m\u001b[0;34m)\u001b[0m\u001b[0;34m\u001b[0m\u001b[0;34m\u001b[0m\u001b[0m\n",
      "\u001b[0;31mAssertionError\u001b[0m: "
     ]
    }
   ],
   "source": [
    "assert get_at_content(\"ATGCNNNNNNNNNN\") == 0.5\n",
    "#doesn't like it\n"
   ]
  },
  {
   "cell_type": "code",
   "execution_count": 37,
   "metadata": {},
   "outputs": [],
   "source": [
    "#but passes now (good for N/As)\n",
    "def get_at_content(dna, sig_figs=2):\n",
    "    dna = dna.replace('N','')\n",
    "    length = len(dna)     \n",
    "    a_count = dna.upper().count('A')     \n",
    "    t_count = dna.upper().count('T')     \n",
    "    at_content = (a_count + t_count) / length     \n",
    "    return round(at_content, sig_figs)\n",
    "assert get_at_content(\"ATGCNNNNNNNNNN\") == 0.5\n"
   ]
  },
  {
   "cell_type": "code",
   "execution_count": 42,
   "metadata": {},
   "outputs": [],
   "source": [
    "#all these assertions are true\n",
    "assert get_at_content(\"A\") == 1\n",
    "assert get_at_content(\"G\") == 0\n",
    "assert get_at_content(\"ATGC\") == 0.5\n",
    "assert get_at_content(\"AGG\") == 0.33\n",
    "assert get_at_content(\"AGG\", 1) == 0.3\n",
    "assert get_at_content(\"AGG\", 5) == 0.33333"
   ]
  },
  {
   "cell_type": "code",
   "execution_count": null,
   "metadata": {},
   "outputs": [],
   "source": []
  }
 ],
 "metadata": {
  "kernelspec": {
   "display_name": "Python 3",
   "language": "python",
   "name": "python3"
  },
  "language_info": {
   "codemirror_mode": {
    "name": "ipython",
    "version": 3
   },
   "file_extension": ".py",
   "mimetype": "text/x-python",
   "name": "python",
   "nbconvert_exporter": "python",
   "pygments_lexer": "ipython3",
   "version": "3.6.7"
  }
 },
 "nbformat": 4,
 "nbformat_minor": 2
}
